{
 "cells": [
  {
   "cell_type": "code",
   "execution_count": 1,
   "id": "d235028e-c719-4369-b547-fdd5734c7db0",
   "metadata": {},
   "outputs": [
    {
     "data": {
      "application/vnd.jupyter.widget-view+json": {
       "model_id": "f17ad2ec6687409e8832eb989a52ce45",
       "version_major": 2,
       "version_minor": 0
      },
      "text/plain": [
       "interactive(children=(FloatSlider(value=0.01, description='Declividade (S):', max=0.1, min=0.001, step=0.001),…"
      ]
     },
     "metadata": {},
     "output_type": "display_data"
    },
    {
     "data": {
      "text/plain": [
       "<function __main__.interactive_manning(slope, roughness, hydraulic_radius, area)>"
      ]
     },
     "execution_count": 1,
     "metadata": {},
     "output_type": "execute_result"
    }
   ],
   "source": [
    "import ipywidgets as widgets\n",
    "from ipywidgets import interact\n",
    "import math\n",
    "\n",
    "# Função para calcular a lâmina líquida com a equação de Manning\n",
    "def manning_equation(slope, roughness, hydraulic_radius, area):\n",
    "    # Fórmula de Manning: Q = (1/n) * A * R^(2/3) * S^(1/2)\n",
    "    flow_rate = (1 / roughness) * area * (hydraulic_radius ** (2/3)) * (slope ** 0.5)\n",
    "    return flow_rate\n",
    "\n",
    "# Interface interativa\n",
    "def interactive_manning(slope, roughness, hydraulic_radius, area):\n",
    "    flow_rate = manning_equation(slope, roughness, hydraulic_radius, area)\n",
    "    print(f\"Lâmina líquida (vazão): {flow_rate:.2f} m³/s\")\n",
    "\n",
    "# Widgets para ajustar os valores\n",
    "interact(\n",
    "    interactive_manning,\n",
    "    slope=widgets.FloatSlider(value=0.01, min=0.001, max=0.1, step=0.001, description='Declividade (S):'),\n",
    "    roughness=widgets.FloatSlider(value=0.013, min=0.01, max=0.05, step=0.001, description='Rugosidade (n):'),\n",
    "    hydraulic_radius=widgets.FloatSlider(value=1.0, min=0.1, max=5.0, step=0.1, description='Raio Hidráulico (R):'),\n",
    "    area=widgets.FloatSlider(value=1.0, min=0.1, max=10.0, step=0.1, description='Área (A):')\n",
    ")\n"
   ]
  },
  {
   "cell_type": "code",
   "execution_count": null,
   "id": "715bff11-76d0-4670-9f78-2483f6dd0b76",
   "metadata": {},
   "outputs": [],
   "source": []
  }
 ],
 "metadata": {
  "kernelspec": {
   "display_name": "Python 3 (ipykernel)",
   "language": "python",
   "name": "python3"
  },
  "language_info": {
   "codemirror_mode": {
    "name": "ipython",
    "version": 3
   },
   "file_extension": ".py",
   "mimetype": "text/x-python",
   "name": "python",
   "nbconvert_exporter": "python",
   "pygments_lexer": "ipython3",
   "version": "3.12.2"
  }
 },
 "nbformat": 4,
 "nbformat_minor": 5
}
